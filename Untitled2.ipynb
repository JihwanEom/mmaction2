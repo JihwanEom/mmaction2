{
 "cells": [
  {
   "cell_type": "code",
   "execution_count": 8,
   "id": "assigned-publisher",
   "metadata": {},
   "outputs": [],
   "source": [
    "import pandas as pd\n",
    "import numpy as np\n",
    "import os\n",
    "import glob\n",
    "from tqdm import tqdm\n",
    "import shutil"
   ]
  },
  {
   "cell_type": "code",
   "execution_count": 9,
   "id": "elect-conversation",
   "metadata": {},
   "outputs": [],
   "source": [
    "files = glob.glob('nerthus/*/*')"
   ]
  },
  {
   "cell_type": "code",
   "execution_count": 10,
   "id": "polish-ceramic",
   "metadata": {},
   "outputs": [
    {
     "name": "stderr",
     "output_type": "stream",
     "text": [
      "100%|██████████| 5525/5525 [00:00<00:00, 6260.76it/s]\n"
     ]
    }
   ],
   "source": [
    "for file in tqdm(files):\n",
    "    name = file.split('/')[-1]\n",
    "    _, video_idx, _, score_str, imgname = name.split('_')\n",
    "    score = score_str[0]\n",
    "    save_dir = f'nerthus/video_{video_idx}_score_{score}'\n",
    "    if not os.path.exists(save_dir):\n",
    "        os.makedirs(save_dir)\n",
    "    shutil.copy(file, f'{save_dir}/{imgname}')"
   ]
  },
  {
   "cell_type": "code",
   "execution_count": null,
   "id": "touched-pastor",
   "metadata": {},
   "outputs": [],
   "source": []
  }
 ],
 "metadata": {
  "kernelspec": {
   "display_name": "Python 3",
   "language": "python",
   "name": "python3"
  },
  "language_info": {
   "codemirror_mode": {
    "name": "ipython",
    "version": 3
   },
   "file_extension": ".py",
   "mimetype": "text/x-python",
   "name": "python",
   "nbconvert_exporter": "python",
   "pygments_lexer": "ipython3",
   "version": "3.8.5"
  }
 },
 "nbformat": 4,
 "nbformat_minor": 5
}

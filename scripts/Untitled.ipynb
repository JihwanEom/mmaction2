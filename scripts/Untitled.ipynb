{
 "cells": [
  {
   "cell_type": "code",
   "execution_count": 1,
   "id": "9e7cc485",
   "metadata": {},
   "outputs": [],
   "source": [
    "import numpy as np\n",
    "import glob\n",
    "import pandas as pd\n",
    "import shutil\n",
    "import os"
   ]
  },
  {
   "cell_type": "code",
   "execution_count": 2,
   "id": "95819899",
   "metadata": {},
   "outputs": [],
   "source": [
    "def read_ann(filename):\n",
    "    with open(filename, 'r') as f:\n",
    "        lines = f.read().splitlines()\n",
    "    return lines"
   ]
  },
  {
   "cell_type": "code",
   "execution_count": 7,
   "id": "271f8433",
   "metadata": {},
   "outputs": [],
   "source": [
    "seed = 2\n",
    "train_filename = f'covid19_us/covid19_us_train_seed_{seed}.txt'\n",
    "val_filename = f'covid19_us/covid19_us_val_seed_{seed}.txt'\n",
    "\n",
    "train_anns = read_ann(train_filename)\n",
    "val_anns = read_ann(val_filename)\n",
    "train_files = [i.split(' ')[0]+'.mp4' for i in train_anns]\n",
    "val_files = [i.split(' ')[0]+'.mp4' for i in val_anns]"
   ]
  },
  {
   "cell_type": "code",
   "execution_count": 8,
   "id": "dc567fff",
   "metadata": {},
   "outputs": [],
   "source": [
    "if not set(train_files).intersection(set(val_files)):\n",
    "    for train_file in train_files:\n",
    "        if not os.path.exists(f'covid_19_us_seed_{seed}'):\n",
    "            os.makedirs(f'covid_19_us_seed_{seed}')\n",
    "        shutil.copy('covid19_us/'+train_file, f'covid_19_us_seed_{seed}/'+train_file)\n",
    "        \n",
    "    for val_file in val_files:\n",
    "        if not os.path.exists(f'covid_19_us_seed_{seed}'):\n",
    "            os.makedirs(f'covid_19_us_seed_{seed}')\n",
    "        shutil.copy('covid19_us/'+val_file, f'covid_19_us_seed_{seed}/'+val_file)\n",
    "else:\n",
    "    print('STOP!!!')"
   ]
  },
  {
   "cell_type": "code",
   "execution_count": null,
   "id": "1c280638",
   "metadata": {},
   "outputs": [],
   "source": []
  }
 ],
 "metadata": {
  "kernelspec": {
   "display_name": "Python 3",
   "language": "python",
   "name": "python3"
  },
  "language_info": {
   "codemirror_mode": {
    "name": "ipython",
    "version": 3
   },
   "file_extension": ".py",
   "mimetype": "text/x-python",
   "name": "python",
   "nbconvert_exporter": "python",
   "pygments_lexer": "ipython3",
   "version": "3.8.8"
  }
 },
 "nbformat": 4,
 "nbformat_minor": 5
}

{
 "cells": [
  {
   "cell_type": "code",
   "execution_count": 1,
   "id": "cbb90dbf",
   "metadata": {},
   "outputs": [],
   "source": [
    "import torch\n",
    "from collections import OrderedDict"
   ]
  },
  {
   "cell_type": "code",
   "execution_count": 2,
   "id": "72660ce8",
   "metadata": {
    "scrolled": true
   },
   "outputs": [],
   "source": [
    "origin = torch.load('/home/nsml/video_workspace/mmaction2/k400_vitb16_8f_dec4x768.pth', map_location='cpu')\n",
    "# mmaction = torch.load('/local_ssd3/jeom/CLIP_checkpoints/k400_vitb16_8f_dec4x768_mm.pth', map_location='cpu')"
   ]
  },
  {
   "cell_type": "code",
   "execution_count": 3,
   "id": "e5a110ce",
   "metadata": {
    "scrolled": true
   },
   "outputs": [],
   "source": [
    "output = OrderedDict()\n",
    "for key, val in origin['model'].items():\n",
    "    if 'module' in key:\n",
    "        key = key.replace('module.', '')\n",
    "    if key.startswith('proj'):\n",
    "        key = key.replace('proj.', 'cls_head.proj.')\n",
    "    if 'decoder' in key:\n",
    "        key = key.replace('decoder.', 'backbone.decoder.')\n",
    "    output[key] = val"
   ]
  },
  {
   "cell_type": "code",
   "execution_count": 4,
   "id": "63a3abc6",
   "metadata": {},
   "outputs": [],
   "source": [
    "torch.save(output, '/home/nsml/video_workspace/mmaction2/k400_vitb16_8f_dec4x768_mm.pth')"
   ]
  },
  {
   "cell_type": "code",
   "execution_count": null,
   "id": "da965d79",
   "metadata": {},
   "outputs": [],
   "source": []
  }
 ],
 "metadata": {
  "kernelspec": {
   "display_name": "Python 3.8.13 ('mm')",
   "language": "python",
   "name": "python3"
  },
  "language_info": {
   "codemirror_mode": {
    "name": "ipython",
    "version": 3
   },
   "file_extension": ".py",
   "mimetype": "text/x-python",
   "name": "python",
   "nbconvert_exporter": "python",
   "pygments_lexer": "ipython3",
   "version": "3.8.13"
  },
  "vscode": {
   "interpreter": {
    "hash": "51033cc7cc8d968a21030d1f1e0f5a96271b89669cd50fec12b3a11bd31adffe"
   }
  }
 },
 "nbformat": 4,
 "nbformat_minor": 5
}

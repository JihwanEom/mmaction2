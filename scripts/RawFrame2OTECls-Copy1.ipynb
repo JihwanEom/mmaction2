{
 "cells": [
  {
   "cell_type": "code",
   "execution_count": 1,
   "id": "3c9b0c40",
   "metadata": {},
   "outputs": [],
   "source": [
    "import numpy as np\n",
    "import pandas as pd\n",
    "import glob\n",
    "import os\n",
    "import shutil"
   ]
  },
  {
   "cell_type": "code",
   "execution_count": 2,
   "id": "aed04a85",
   "metadata": {
    "scrolled": true
   },
   "outputs": [],
   "source": [
    "def parse_metainfo(root_path):\n",
    "    train_list = pd.read_csv(os.path.join(root_path, 'rawframe_train.txt'), header=None, sep=' ')\n",
    "    val_list = pd.read_csv(os.path.join(root_path, 'rawframe_val.txt'), header=None, sep=' ')\n",
    "    label_map = pd.read_csv(os.path.join(root_path, 'label_map.txt'), header=None, sep=' ')\n",
    "    for file_list in [train_list, val_list]:\n",
    "        file_list.columns = ['dir_name', 'num_frames', 'label']\n",
    "    return train_list, val_list, label_map"
   ]
  },
  {
   "cell_type": "code",
   "execution_count": 3,
   "id": "6c66344e",
   "metadata": {},
   "outputs": [],
   "source": [
    "def save_imgs(files_list, phase=None):\n",
    "    global root_path, dst_path, label_str, label_count\n",
    "    dir_names = files_list[files_list['label'] == label_idx]['dir_name'].unique()\n",
    "    rawframe_dirname = 'rawframes'\n",
    "    dir_label_path = os.path.join(dst_path, rawframe_dirname.replace('rawframes', 'otecls')+'_'+phase, label_str)\n",
    "    if not os.path.exists(dir_label_path):\n",
    "        os.makedirs(dir_label_path)\n",
    "    for dir_name in dir_names:\n",
    "        dir_imgs = glob.glob(os.path.join(root_path, str(dir_name), '*'))\n",
    "        for dir_img in dir_imgs:\n",
    "            img_name = dir_img.split('/')[-1]\n",
    "            img_idx = format(label_count, '>06')\n",
    "            shutil.copy(dir_img, os.path.join(dst_path, rawframe_dirname.replace('rawframes', 'otecls')+'_'+phase, label_str, img_idx+'.jpg'))\n",
    "            label_count += 1"
   ]
  },
  {
   "cell_type": "code",
   "execution_count": 9,
   "id": "0a79827a",
   "metadata": {
    "scrolled": true
   },
   "outputs": [],
   "source": [
    "root_path = 'covid19_us_seed_2/rawframes'\n",
    "dst_path = 'otecls_covid19_us_seed_2'\n",
    "if os.path.exists(dst_path):\n",
    "    shutil.rmtree(dst_path)\n",
    "train_list, val_list, label_map = parse_metainfo(root_path)\n",
    "\n",
    "num_labels = len(label_map)\n",
    "for label_idx in range(num_labels):\n",
    "    label_count = 0\n",
    "    label_str = label_map[1].iloc[label_idx]\n",
    "    save_imgs(train_list, phase='train')\n",
    "    save_imgs(val_list, phase='val')"
   ]
  },
  {
   "cell_type": "code",
   "execution_count": null,
   "id": "d92be707",
   "metadata": {},
   "outputs": [],
   "source": []
  }
 ],
 "metadata": {
  "kernelspec": {
   "display_name": "Python 3",
   "language": "python",
   "name": "python3"
  },
  "language_info": {
   "codemirror_mode": {
    "name": "ipython",
    "version": 3
   },
   "file_extension": ".py",
   "mimetype": "text/x-python",
   "name": "python",
   "nbconvert_exporter": "python",
   "pygments_lexer": "ipython3",
   "version": "3.8.8"
  }
 },
 "nbformat": 4,
 "nbformat_minor": 5
}

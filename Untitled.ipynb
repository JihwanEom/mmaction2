{
 "cells": [
  {
   "cell_type": "code",
   "execution_count": 16,
   "id": "medical-ranking",
   "metadata": {},
   "outputs": [],
   "source": [
    "import pandas as pd\n",
    "import numpy as np\n",
    "import glob\n",
    "import random\n",
    "import os"
   ]
  },
  {
   "cell_type": "code",
   "execution_count": 27,
   "id": "scenic-barrier",
   "metadata": {
    "scrolled": false
   },
   "outputs": [
    {
     "name": "stdout",
     "output_type": "stream",
     "text": [
      "video_8_score_1 125 1\n",
      "video_11_score_1 125 1\n",
      "video_3_score_1 125 1\n",
      "video_9_score_1 125 1\n",
      "video_6_score_1 125 1\n",
      "video_5_score_1 125 1\n",
      "video_10_score_1 125 1\n",
      "video_7_score_1 125 1\n",
      "video_12_score_1 125 1\n",
      "video_4_score_1 125 1\n",
      "video_13_score_2 125 2\n",
      "video_15_score_2 125 2\n",
      "video_14_score_2 125 2\n",
      "video_16_score_2 125 2\n",
      "video_2_score_0 125 0\n",
      "video_1_score_0 125 0\n",
      "video_17_score_3 125 3\n",
      "video_19_score_3 125 3\n",
      "video_21_score_3 125 3\n",
      "video_18_score_3 125 3\n",
      "video_20_score_3 125 3\n"
     ]
    }
   ],
   "source": [
    "root_path = '/home/nsml/video_workspace/mmaction2/data/nerthus/'\n",
    "files = glob.glob(os.path.join(root_path, '*'))\n",
    "for file in files:\n",
    "    length = len(glob.glob(file+'/*'))\n",
    "    score = file.split('/')[-1].split('_')[3]\n",
    "    print(file.split('/')[-1], length, score)\n",
    "#     if 'Bad' in file:\n",
    "#         print(file[len(root_path)+1:], length, '0')\n",
    "#     else:\n",
    "#         print(file[len(root_path)+1:], length, '1')"
   ]
  },
  {
   "cell_type": "code",
   "execution_count": 18,
   "id": "about-sector",
   "metadata": {
    "scrolled": true
   },
   "outputs": [],
   "source": []
  },
  {
   "cell_type": "code",
   "execution_count": 19,
   "id": "original-scholarship",
   "metadata": {},
   "outputs": [
    {
     "data": {
      "text/plain": [
       "'1'"
      ]
     },
     "execution_count": 19,
     "metadata": {},
     "output_type": "execute_result"
    }
   ],
   "source": [
    "score"
   ]
  },
  {
   "cell_type": "code",
   "execution_count": 20,
   "id": "dynamic-exhibition",
   "metadata": {},
   "outputs": [
    {
     "data": {
      "text/plain": [
       "['/home/nsml/video_workspace/mmaction2/data/nerthus/video_8_score_1',\n",
       " '/home/nsml/video_workspace/mmaction2/data/nerthus/video_11_score_1',\n",
       " '/home/nsml/video_workspace/mmaction2/data/nerthus/video_3_score_1',\n",
       " '/home/nsml/video_workspace/mmaction2/data/nerthus/video_9_score_1',\n",
       " '/home/nsml/video_workspace/mmaction2/data/nerthus/video_6_score_1',\n",
       " '/home/nsml/video_workspace/mmaction2/data/nerthus/video_5_score_1',\n",
       " '/home/nsml/video_workspace/mmaction2/data/nerthus/video_10_score_1',\n",
       " '/home/nsml/video_workspace/mmaction2/data/nerthus/video_7_score_1',\n",
       " '/home/nsml/video_workspace/mmaction2/data/nerthus/video_12_score_1',\n",
       " '/home/nsml/video_workspace/mmaction2/data/nerthus/video_4_score_1',\n",
       " '/home/nsml/video_workspace/mmaction2/data/nerthus/video_13_score_2',\n",
       " '/home/nsml/video_workspace/mmaction2/data/nerthus/video_15_score_2',\n",
       " '/home/nsml/video_workspace/mmaction2/data/nerthus/video_14_score_2',\n",
       " '/home/nsml/video_workspace/mmaction2/data/nerthus/video_16_score_2',\n",
       " '/home/nsml/video_workspace/mmaction2/data/nerthus/video_2_score_0',\n",
       " '/home/nsml/video_workspace/mmaction2/data/nerthus/video_1_score_0',\n",
       " '/home/nsml/video_workspace/mmaction2/data/nerthus/video_17_score_3',\n",
       " '/home/nsml/video_workspace/mmaction2/data/nerthus/video_19_score_3',\n",
       " '/home/nsml/video_workspace/mmaction2/data/nerthus/video_21_score_3',\n",
       " '/home/nsml/video_workspace/mmaction2/data/nerthus/video_18_score_3',\n",
       " '/home/nsml/video_workspace/mmaction2/data/nerthus/video_20_score_3']"
      ]
     },
     "execution_count": 20,
     "metadata": {},
     "output_type": "execute_result"
    }
   ],
   "source": [
    "files"
   ]
  },
  {
   "cell_type": "code",
   "execution_count": null,
   "id": "original-english",
   "metadata": {},
   "outputs": [],
   "source": []
  }
 ],
 "metadata": {
  "kernelspec": {
   "display_name": "Python 3",
   "language": "python",
   "name": "python3"
  },
  "language_info": {
   "codemirror_mode": {
    "name": "ipython",
    "version": 3
   },
   "file_extension": ".py",
   "mimetype": "text/x-python",
   "name": "python",
   "nbconvert_exporter": "python",
   "pygments_lexer": "ipython3",
   "version": "3.8.5"
  }
 },
 "nbformat": 4,
 "nbformat_minor": 5
}

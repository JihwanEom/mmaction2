{
 "cells": [
  {
   "cell_type": "code",
   "execution_count": 1,
   "id": "harmful-institute",
   "metadata": {},
   "outputs": [],
   "source": [
    "import numpy as np\n",
    "import pandas as pd\n",
    "import glob\n",
    "import os\n",
    "import shutil"
   ]
  },
  {
   "cell_type": "code",
   "execution_count": 2,
   "id": "dated-comedy",
   "metadata": {},
   "outputs": [],
   "source": [
    "def parse_metainfo(root_path):\n",
    "    train_list = pd.read_csv(os.path.join(root_path, 'train_list_rawframes.txt'), header=None, sep=' ')\n",
    "    val_list = pd.read_csv(os.path.join(root_path, 'val_list_rawframes.txt'), header=None, sep=' ')\n",
    "    for file_list in [train_list, val_list]:\n",
    "        file_list.columns = ['dir_name', 'num_frames', 'label']\n",
    "    return train_list, val_list"
   ]
  },
  {
   "cell_type": "code",
   "execution_count": 3,
   "id": "described-throat",
   "metadata": {},
   "outputs": [],
   "source": [
    "def save_imgs(files_list, phase=None):\n",
    "    global root_path, dst_path, label_str, label_count\n",
    "    dir_names = files_list[files_list['label'] == label_idx]['dir_name'].unique()\n",
    "    if phase == 'train':\n",
    "        rawframe_dirname = 'rawframes_train'\n",
    "    elif phase == 'val':\n",
    "        rawframe_dirname = 'rawframes_val'\n",
    "    dir_label_path = os.path.join(dst_path, rawframe_dirname.replace('rawframes', 'otecls'), label_str)\n",
    "    if not os.path.exists(dir_label_path):\n",
    "        os.makedirs(dir_label_path)\n",
    "    for dir_name in dir_names:\n",
    "        dir_imgs = glob.glob(os.path.join(root_path, rawframe_dirname, str(dir_name), '*'))\n",
    "        for dir_img in dir_imgs:\n",
    "            img_name = dir_img.split('/')[-1]\n",
    "            img_idx = format(label_count, '>06')\n",
    "            shutil.copy(dir_img, os.path.join(dst_path, rawframe_dirname.replace('rawframes', 'otecls'), label_str, img_idx+'.jpg'))\n",
    "            label_count += 1"
   ]
  },
  {
   "cell_type": "code",
   "execution_count": 4,
   "id": "affected-collaboration",
   "metadata": {},
   "outputs": [],
   "source": [
    "root_path = 'nerthus/rawframes'\n",
    "dst_path = 'nerthus_ote'\n",
    "if os.path.exists(dst_path):\n",
    "    shutil.rmtree(dst_path)\n",
    "train_list, val_list = parse_metainfo(root_path)\n",
    "list_df = pd.concat([train_list, val_list]).reset_index(drop=True)\n",
    "\n",
    "for unique_label in list_df.label.unique():\n",
    "    train_folder = os.path.join(dst_path, 'train', str(unique_label))\n",
    "    if not os.path.exists(train_folder):\n",
    "        os.makedirs(train_folder)\n",
    "\n",
    "    val_folder = os.path.join(dst_path, 'val', str(unique_label))\n",
    "    if not os.path.exists(val_folder):\n",
    "        os.makedirs(val_folder)\n",
    "\n",
    "\n",
    "# for dir_name in dir_names:\n",
    "#     dir_imgs = glob.glob(os.path.join(root_path, rawframe_dirname, str(dir_name), '*'))\n",
    "#     for dir_img in dir_imgs:\n",
    "#         img_name = dir_img.split('/')[-1]\n",
    "#         img_idx = format(label_count, '>06')\n",
    "#         shutil.copy(dir_img, os.path.join(dst_path, rawframe_dirname.replace('rawframes', 'otecls'), label_str, img_idx+'.jpg'))\n",
    "#         label_count += 1"
   ]
  },
  {
   "cell_type": "code",
   "execution_count": 5,
   "id": "diagnostic-fields",
   "metadata": {
    "scrolled": true
   },
   "outputs": [],
   "source": [
    "for i in range(len(list_df)):\n",
    "    target_df = list_df.iloc[i]\n",
    "    name, frames, label = target_df.values\n",
    "    root_imgs = glob.glob(f\"{root_path}/{name}/*\")\n",
    "    video_idx = name.split('_')[1]\n",
    "    if name in train_list.dir_name.values:\n",
    "        for img in root_imgs:\n",
    "            imgname = img.split('/')[-1]\n",
    "            shutil.copy(img, f\"{dst_path}/train/{str(label)}/{video_idx}_{imgname}\")\n",
    "            \n",
    "    elif name in val_list.dir_name.values:\n",
    "        for img in root_imgs:\n",
    "            imgname = img.split('/')[-1]\n",
    "            shutil.copy(img, f\"{dst_path}/val/{str(label)}/{video_idx}_{imgname}\")"
   ]
  }
 ],
 "metadata": {
  "kernelspec": {
   "display_name": "Python 3",
   "language": "python",
   "name": "python3"
  },
  "language_info": {
   "codemirror_mode": {
    "name": "ipython",
    "version": 3
   },
   "file_extension": ".py",
   "mimetype": "text/x-python",
   "name": "python",
   "nbconvert_exporter": "python",
   "pygments_lexer": "ipython3",
   "version": "3.8.5"
  }
 },
 "nbformat": 4,
 "nbformat_minor": 5
}
